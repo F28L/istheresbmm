{
 "metadata": {
  "language_info": {
   "codemirror_mode": {
    "name": "ipython",
    "version": 3
   },
   "file_extension": ".py",
   "mimetype": "text/x-python",
   "name": "python",
   "nbconvert_exporter": "python",
   "pygments_lexer": "ipython3",
   "version": "3.9.5"
  },
  "orig_nbformat": 2,
  "kernelspec": {
   "name": "python395jvsc74a57bd063fd5069d213b44bf678585dea6b12cceca9941eaf7f819626cde1f2670de90d",
   "display_name": "Python 3.9.5 64-bit"
  }
 },
 "nbformat": 4,
 "nbformat_minor": 2,
 "cells": [
  {
   "cell_type": "code",
   "execution_count": 2,
   "metadata": {},
   "outputs": [
    {
     "output_type": "execute_result",
     "data": {
      "text/plain": [
       "                     id kills  kd   dmg deaths hsPct\n",
       "1992934777753343208  11  1.64  '4  101'      0    0%\n",
       "1992934777753343208   7  1.20  '1  210'      0    0%\n",
       "1992934777753343208   6  1.21  '2  680'      0   33%\n",
       "1992934777753343208   1  1.03  '1  780'      1  100%\n",
       "1992934777753343208  12  4.98  '5  693'      5   25%"
      ],
      "text/html": "<div>\n<style scoped>\n    .dataframe tbody tr th:only-of-type {\n        vertical-align: middle;\n    }\n\n    .dataframe tbody tr th {\n        vertical-align: top;\n    }\n\n    .dataframe thead th {\n        text-align: right;\n    }\n</style>\n<table border=\"1\" class=\"dataframe\">\n  <thead>\n    <tr style=\"text-align: right;\">\n      <th></th>\n      <th>id</th>\n      <th>kills</th>\n      <th>kd</th>\n      <th>dmg</th>\n      <th>deaths</th>\n      <th>hsPct</th>\n    </tr>\n  </thead>\n  <tbody>\n    <tr>\n      <th>1992934777753343208</th>\n      <td>11</td>\n      <td>1.64</td>\n      <td>'4</td>\n      <td>101'</td>\n      <td>0</td>\n      <td>0%</td>\n    </tr>\n    <tr>\n      <th>1992934777753343208</th>\n      <td>7</td>\n      <td>1.20</td>\n      <td>'1</td>\n      <td>210'</td>\n      <td>0</td>\n      <td>0%</td>\n    </tr>\n    <tr>\n      <th>1992934777753343208</th>\n      <td>6</td>\n      <td>1.21</td>\n      <td>'2</td>\n      <td>680'</td>\n      <td>0</td>\n      <td>33%</td>\n    </tr>\n    <tr>\n      <th>1992934777753343208</th>\n      <td>1</td>\n      <td>1.03</td>\n      <td>'1</td>\n      <td>780'</td>\n      <td>1</td>\n      <td>100%</td>\n    </tr>\n    <tr>\n      <th>1992934777753343208</th>\n      <td>12</td>\n      <td>4.98</td>\n      <td>'5</td>\n      <td>693'</td>\n      <td>5</td>\n      <td>25%</td>\n    </tr>\n  </tbody>\n</table>\n</div>"
     },
     "metadata": {},
     "execution_count": 2
    }
   ],
   "source": [
    "import pandas as pandas\n",
    "\n",
    "df = pandas.read_csv('./dataset/games.csv')\n",
    "\n",
    "df.head()"
   ]
  },
  {
   "cell_type": "code",
   "execution_count": null,
   "metadata": {},
   "outputs": [],
   "source": []
  }
 ]
}