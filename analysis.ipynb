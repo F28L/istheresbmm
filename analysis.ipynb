{
 "cells": [
  {
   "cell_type": "code",
   "execution_count": 1,
   "id": "92d7b0c1",
   "metadata": {},
   "outputs": [
    {
     "data": {
      "text/html": [
       "<div>\n",
       "<style scoped>\n",
       "    .dataframe tbody tr th:only-of-type {\n",
       "        vertical-align: middle;\n",
       "    }\n",
       "\n",
       "    .dataframe tbody tr th {\n",
       "        vertical-align: top;\n",
       "    }\n",
       "\n",
       "    .dataframe thead th {\n",
       "        text-align: right;\n",
       "    }\n",
       "</style>\n",
       "<table border=\"1\" class=\"dataframe\">\n",
       "  <thead>\n",
       "    <tr style=\"text-align: right;\">\n",
       "      <th></th>\n",
       "      <th>id</th>\n",
       "      <th>username</th>\n",
       "      <th>platform</th>\n",
       "      <th>lifetime_kd</th>\n",
       "    </tr>\n",
       "  </thead>\n",
       "  <tbody>\n",
       "    <tr>\n",
       "      <th>0</th>\n",
       "      <td>377175583563765943</td>\n",
       "      <td>NaN</td>\n",
       "      <td>NaN</td>\n",
       "      <td>0.786765</td>\n",
       "    </tr>\n",
       "    <tr>\n",
       "      <th>1</th>\n",
       "      <td>377175583563765943</td>\n",
       "      <td>NaN</td>\n",
       "      <td>NaN</td>\n",
       "      <td>0.751709</td>\n",
       "    </tr>\n",
       "    <tr>\n",
       "      <th>2</th>\n",
       "      <td>377175583563765943</td>\n",
       "      <td>NaN</td>\n",
       "      <td>NaN</td>\n",
       "      <td>0.727273</td>\n",
       "    </tr>\n",
       "    <tr>\n",
       "      <th>3</th>\n",
       "      <td>377175583563765943</td>\n",
       "      <td>NaN</td>\n",
       "      <td>NaN</td>\n",
       "      <td>0.220339</td>\n",
       "    </tr>\n",
       "    <tr>\n",
       "      <th>4</th>\n",
       "      <td>377175583563765943</td>\n",
       "      <td>NaN</td>\n",
       "      <td>NaN</td>\n",
       "      <td>0.548535</td>\n",
       "    </tr>\n",
       "  </tbody>\n",
       "</table>\n",
       "</div>"
      ],
      "text/plain": [
       "                   id username platform  lifetime_kd\n",
       "0  377175583563765943      NaN      NaN     0.786765\n",
       "1  377175583563765943      NaN      NaN     0.751709\n",
       "2  377175583563765943      NaN      NaN     0.727273\n",
       "3  377175583563765943      NaN      NaN     0.220339\n",
       "4  377175583563765943      NaN      NaN     0.548535"
      ]
     },
     "execution_count": 1,
     "metadata": {},
     "output_type": "execute_result"
    }
   ],
   "source": [
    "import requests\n",
    "from bs4 import BeautifulSoup\n",
    "import time\n",
    "import csv\n",
    "import pandas as pd\n",
    "import unidecode\n",
    "\n",
    "df = pd.read_csv('./dataset/large_branch.csv')\n",
    "df.head()"
   ]
  },
  {
   "cell_type": "code",
   "execution_count": 4,
   "id": "109b84fa",
   "metadata": {},
   "outputs": [
    {
     "data": {
      "text/plain": [
       "(array([1.580e+02, 1.610e+02, 2.550e+02, 3.790e+02, 4.510e+02, 6.150e+02,\n",
       "        8.100e+02, 1.008e+03, 1.200e+03, 1.426e+03, 1.751e+03, 2.026e+03,\n",
       "        2.311e+03, 2.595e+03, 3.044e+03, 3.391e+03, 3.809e+03, 4.264e+03,\n",
       "        4.657e+03, 5.159e+03, 5.559e+03, 5.941e+03, 6.425e+03, 6.811e+03,\n",
       "        6.873e+03, 7.414e+03, 7.624e+03, 7.685e+03, 7.824e+03, 7.790e+03,\n",
       "        7.796e+03, 7.705e+03, 7.674e+03, 7.340e+03, 7.200e+03, 6.873e+03,\n",
       "        6.775e+03, 6.299e+03, 5.981e+03, 5.553e+03, 5.366e+03, 5.000e+03,\n",
       "        4.641e+03, 4.353e+03, 4.042e+03, 3.652e+03, 3.337e+03, 3.180e+03,\n",
       "        2.799e+03, 2.564e+03, 2.463e+03, 2.288e+03, 2.125e+03, 1.891e+03,\n",
       "        1.723e+03, 1.619e+03, 1.484e+03, 1.285e+03, 1.190e+03, 1.109e+03,\n",
       "        1.054e+03, 8.580e+02, 8.720e+02, 8.220e+02, 7.140e+02, 6.820e+02,\n",
       "        6.000e+02, 5.730e+02, 4.820e+02, 5.170e+02, 4.460e+02, 4.060e+02,\n",
       "        3.860e+02, 3.590e+02, 3.860e+02, 2.820e+02, 2.880e+02, 3.000e+02,\n",
       "        2.710e+02, 2.300e+02, 2.260e+02, 1.960e+02, 1.790e+02, 1.910e+02,\n",
       "        1.460e+02, 1.440e+02, 1.350e+02, 1.260e+02, 1.230e+02, 1.540e+02,\n",
       "        1.140e+02, 8.600e+01, 9.300e+01, 9.900e+01, 6.400e+01, 8.600e+01,\n",
       "        7.500e+01, 7.000e+01, 6.900e+01, 5.900e+01, 8.300e+01, 6.100e+01,\n",
       "        5.500e+01, 5.000e+01, 3.600e+01, 4.400e+01, 5.000e+01, 5.500e+01,\n",
       "        4.200e+01, 4.000e+01, 3.400e+01, 5.100e+01, 3.600e+01, 3.100e+01,\n",
       "        3.100e+01, 2.500e+01, 2.000e+01, 2.400e+01, 2.000e+01, 2.100e+01,\n",
       "        3.000e+01, 1.300e+01, 2.000e+01, 1.500e+01, 1.500e+01, 2.700e+01,\n",
       "        1.900e+01, 2.000e+01, 1.100e+01, 1.600e+01, 1.700e+01, 1.100e+01,\n",
       "        1.000e+01, 1.400e+01, 6.000e+00, 1.000e+01, 1.300e+01, 9.000e+00,\n",
       "        1.500e+01, 5.000e+00, 1.100e+01, 7.000e+00, 7.000e+00, 3.000e+00,\n",
       "        5.000e+00, 5.000e+00, 4.000e+00, 8.000e+00, 2.000e+00, 1.400e+01,\n",
       "        6.000e+00, 7.000e+00, 2.000e+00, 7.000e+00, 3.000e+00, 6.000e+00,\n",
       "        3.000e+00, 4.000e+00, 6.000e+00, 4.000e+00, 5.000e+00, 5.000e+00,\n",
       "        1.000e+00, 5.000e+00, 5.000e+00, 2.000e+00, 3.000e+00, 6.000e+00,\n",
       "        1.000e+00, 3.000e+00, 0.000e+00, 6.000e+00, 4.000e+00, 1.000e+00,\n",
       "        2.000e+00, 0.000e+00, 0.000e+00, 4.000e+00, 3.000e+00, 0.000e+00,\n",
       "        1.000e+00, 1.000e+00, 1.000e+00, 0.000e+00, 1.000e+00, 2.000e+00,\n",
       "        1.000e+00, 2.000e+00, 0.000e+00, 1.000e+00, 1.000e+00, 0.000e+00,\n",
       "        3.000e+00, 2.000e+00, 1.000e+00, 2.000e+00, 6.000e+00, 1.000e+00,\n",
       "        0.000e+00, 1.000e+00]),\n",
       " array([0.  , 0.03, 0.06, 0.09, 0.12, 0.15, 0.18, 0.21, 0.24, 0.27, 0.3 ,\n",
       "        0.33, 0.36, 0.39, 0.42, 0.45, 0.48, 0.51, 0.54, 0.57, 0.6 , 0.63,\n",
       "        0.66, 0.69, 0.72, 0.75, 0.78, 0.81, 0.84, 0.87, 0.9 , 0.93, 0.96,\n",
       "        0.99, 1.02, 1.05, 1.08, 1.11, 1.14, 1.17, 1.2 , 1.23, 1.26, 1.29,\n",
       "        1.32, 1.35, 1.38, 1.41, 1.44, 1.47, 1.5 , 1.53, 1.56, 1.59, 1.62,\n",
       "        1.65, 1.68, 1.71, 1.74, 1.77, 1.8 , 1.83, 1.86, 1.89, 1.92, 1.95,\n",
       "        1.98, 2.01, 2.04, 2.07, 2.1 , 2.13, 2.16, 2.19, 2.22, 2.25, 2.28,\n",
       "        2.31, 2.34, 2.37, 2.4 , 2.43, 2.46, 2.49, 2.52, 2.55, 2.58, 2.61,\n",
       "        2.64, 2.67, 2.7 , 2.73, 2.76, 2.79, 2.82, 2.85, 2.88, 2.91, 2.94,\n",
       "        2.97, 3.  , 3.03, 3.06, 3.09, 3.12, 3.15, 3.18, 3.21, 3.24, 3.27,\n",
       "        3.3 , 3.33, 3.36, 3.39, 3.42, 3.45, 3.48, 3.51, 3.54, 3.57, 3.6 ,\n",
       "        3.63, 3.66, 3.69, 3.72, 3.75, 3.78, 3.81, 3.84, 3.87, 3.9 , 3.93,\n",
       "        3.96, 3.99, 4.02, 4.05, 4.08, 4.11, 4.14, 4.17, 4.2 , 4.23, 4.26,\n",
       "        4.29, 4.32, 4.35, 4.38, 4.41, 4.44, 4.47, 4.5 , 4.53, 4.56, 4.59,\n",
       "        4.62, 4.65, 4.68, 4.71, 4.74, 4.77, 4.8 , 4.83, 4.86, 4.89, 4.92,\n",
       "        4.95, 4.98, 5.01, 5.04, 5.07, 5.1 , 5.13, 5.16, 5.19, 5.22, 5.25,\n",
       "        5.28, 5.31, 5.34, 5.37, 5.4 , 5.43, 5.46, 5.49, 5.52, 5.55, 5.58,\n",
       "        5.61, 5.64, 5.67, 5.7 , 5.73, 5.76, 5.79, 5.82, 5.85, 5.88, 5.91,\n",
       "        5.94, 5.97, 6.  ]),\n",
       " <BarContainer object of 200 artists>)"
      ]
     },
     "execution_count": 4,
     "metadata": {},
     "output_type": "execute_result"
    },
    {
     "data": {
      "image/png": "[encoded data removed]",
      "text/plain": [
       "<Figure size 432x288 with 1 Axes>"
      ]
     },
     "metadata": {
      "needs_background": "light"
     },
     "output_type": "display_data"
    }
   ],
   "source": [
    "import matplotlib.pyplot as plt\n",
    "# df.hist(column='lifetime_kd')\n",
    "plt.hist(df['lifetime_kd'], range = (0,6), bins = 200)"
   ]
  },
  {
   "cell_type": "code",
   "execution_count": null,
   "id": "a1349a96",
   "metadata": {},
   "outputs": [],
   "source": []
  }
 ],
 "metadata": {
  "kernelspec": {
   "display_name": "Python 3",
   "language": "python",
   "name": "python3"
  },
  "language_info": {
   "codemirror_mode": {
    "name": "ipython",
    "version": 3
   },
   "file_extension": ".py",
   "mimetype": "text/x-python",
   "name": "python",
   "nbconvert_exporter": "python",
   "pygments_lexer": "ipython3",
   "version": "3.8.8"
  }
 },
 "nbformat": 4,
 "nbformat_minor": 5
}
