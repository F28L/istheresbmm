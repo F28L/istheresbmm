{
 "metadata": {
  "language_info": {
   "codemirror_mode": {
    "name": "ipython",
    "version": 3
   },
   "file_extension": ".py",
   "mimetype": "text/x-python",
   "name": "python",
   "nbconvert_exporter": "python",
   "pygments_lexer": "ipython3",
   "version": "3.8.5"
  },
  "orig_nbformat": 2,
  "kernelspec": {
   "name": "python385jvsc74a57bd0dca0ade3e726a953b501b15e8e990130d2b7799f14cfd9f4271676035ebe5511",
   "display_name": "Python 3.8.5 64-bit ('base': conda)"
  }
 },
 "nbformat": 4,
 "nbformat_minor": 2,
 "cells": [
  {
   "cell_type": "code",
   "execution_count": 1,
   "metadata": {},
   "outputs": [],
   "source": [
    "import wzstats as wz\n",
    "import csv\n",
    "import pandas as pd"
   ]
  },
  {
   "cell_type": "code",
   "execution_count": 2,
   "metadata": {},
   "outputs": [
    {
     "output_type": "execute_result",
     "data": {
      "text/plain": [
       "              name    plat        kd     winpct  wins  kills  killsPerGame  \\\n",
       "0           d0ncic     xbl  1.234568   3.333333     5    500      3.333333   \n",
       "1  NICKMERCS#11526  battle  4.373025  14.764834   744  46494      9.226831   \n",
       "2      AYDAN#11691  battle  4.982685  12.710220   786  69927     11.307730   \n",
       "3      TEEPEE#1840  battle  5.094419  27.636719  1981  81149     11.321010   \n",
       "4     TOMMEY#21329  battle  5.056241  20.023945  1338  88105     13.185424   \n",
       "5      RATED#21620  battle  4.814451  11.745930   736  65101     10.389563   \n",
       "\n",
       "   gulagLast100  hsLast100  kdLast100  \\\n",
       "0      0.619048   0.188841   1.153465   \n",
       "1      0.827586   0.208376   4.429864   \n",
       "2      0.880952   0.171028   4.734513   \n",
       "3      0.879121   0.219237   5.342593   \n",
       "4      0.825000   0.267717   4.861244   \n",
       "5      0.880952   0.190299   4.764444   \n",
       "\n",
       "                                             gameIDs  \n",
       "0  127364889490544550;6320684864520723223;1033676...  \n",
       "1  17837158414789481963;12566442349070955611;2833...  \n",
       "2  1992934777753343208;7495523342168615093;734690...  \n",
       "3  7281667249466132419;11172228004734822107;17832...  \n",
       "4  7505873604023675579;4894258733829837567;224560...  \n",
       "5  1992934777753343208;7495523342168615093;734690...  "
      ],
      "text/html": "<div>\n<style scoped>\n    .dataframe tbody tr th:only-of-type {\n        vertical-align: middle;\n    }\n\n    .dataframe tbody tr th {\n        vertical-align: top;\n    }\n\n    .dataframe thead th {\n        text-align: right;\n    }\n</style>\n<table border=\"1\" class=\"dataframe\">\n  <thead>\n    <tr style=\"text-align: right;\">\n      <th></th>\n      <th>name</th>\n      <th>plat</th>\n      <th>kd</th>\n      <th>winpct</th>\n      <th>wins</th>\n      <th>kills</th>\n      <th>killsPerGame</th>\n      <th>gulagLast100</th>\n      <th>hsLast100</th>\n      <th>kdLast100</th>\n      <th>gameIDs</th>\n    </tr>\n  </thead>\n  <tbody>\n    <tr>\n      <th>0</th>\n      <td>d0ncic</td>\n      <td>xbl</td>\n      <td>1.234568</td>\n      <td>3.333333</td>\n      <td>5</td>\n      <td>500</td>\n      <td>3.333333</td>\n      <td>0.619048</td>\n      <td>0.188841</td>\n      <td>1.153465</td>\n      <td>127364889490544550;6320684864520723223;1033676...</td>\n    </tr>\n    <tr>\n      <th>1</th>\n      <td>NICKMERCS#11526</td>\n      <td>battle</td>\n      <td>4.373025</td>\n      <td>14.764834</td>\n      <td>744</td>\n      <td>46494</td>\n      <td>9.226831</td>\n      <td>0.827586</td>\n      <td>0.208376</td>\n      <td>4.429864</td>\n      <td>17837158414789481963;12566442349070955611;2833...</td>\n    </tr>\n    <tr>\n      <th>2</th>\n      <td>AYDAN#11691</td>\n      <td>battle</td>\n      <td>4.982685</td>\n      <td>12.710220</td>\n      <td>786</td>\n      <td>69927</td>\n      <td>11.307730</td>\n      <td>0.880952</td>\n      <td>0.171028</td>\n      <td>4.734513</td>\n      <td>1992934777753343208;7495523342168615093;734690...</td>\n    </tr>\n    <tr>\n      <th>3</th>\n      <td>TEEPEE#1840</td>\n      <td>battle</td>\n      <td>5.094419</td>\n      <td>27.636719</td>\n      <td>1981</td>\n      <td>81149</td>\n      <td>11.321010</td>\n      <td>0.879121</td>\n      <td>0.219237</td>\n      <td>5.342593</td>\n      <td>7281667249466132419;11172228004734822107;17832...</td>\n    </tr>\n    <tr>\n      <th>4</th>\n      <td>TOMMEY#21329</td>\n      <td>battle</td>\n      <td>5.056241</td>\n      <td>20.023945</td>\n      <td>1338</td>\n      <td>88105</td>\n      <td>13.185424</td>\n      <td>0.825000</td>\n      <td>0.267717</td>\n      <td>4.861244</td>\n      <td>7505873604023675579;4894258733829837567;224560...</td>\n    </tr>\n    <tr>\n      <th>5</th>\n      <td>RATED#21620</td>\n      <td>battle</td>\n      <td>4.814451</td>\n      <td>11.745930</td>\n      <td>736</td>\n      <td>65101</td>\n      <td>10.389563</td>\n      <td>0.880952</td>\n      <td>0.190299</td>\n      <td>4.764444</td>\n      <td>1992934777753343208;7495523342168615093;734690...</td>\n    </tr>\n  </tbody>\n</table>\n</div>"
     },
     "metadata": {},
     "execution_count": 2
    }
   ],
   "source": [
    "df = pd.read_csv('../dataset/users.csv')\n",
    "df"
   ]
  },
  {
   "cell_type": "code",
   "execution_count": 3,
   "metadata": {},
   "outputs": [],
   "source": [
    "for index, x in df.iterrows():\n",
    "    game_ids = x.gameIDs.split(';')\n",
    "    with open('../dataset/games.csv', 'w', newline='') as csvfile:   \n",
    "        writer = csv.writer(csvfile, delimiter=',', quotechar='\\'', quoting=csv.QUOTE_MINIMAL)\n",
    "        \n",
    "        for id in game_ids:\n",
    "            lobby = wz.getLobbyStats(str(id))\n",
    "            for player in lobby:\n",
    "                line = list(player.values())\n",
    "                writer.writerow(line)"
   ]
  },
  {
   "cell_type": "code",
   "execution_count": null,
   "metadata": {},
   "outputs": [],
   "source": []
  }
 ]
}